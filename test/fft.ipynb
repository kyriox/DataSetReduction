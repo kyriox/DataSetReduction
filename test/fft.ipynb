{
 "cells": [
  {
   "cell_type": "code",
   "execution_count": 1,
   "metadata": {},
   "outputs": [
    {
     "name": "stderr",
     "output_type": "stream",
     "text": [
      "\u001b[1m\u001b[36mINFO: \u001b[39m\u001b[22m\u001b[36mRecompiling stale cache file /Users/sadit/.julia/lib/v0.6/Conda.ji for module Conda.\n",
      "\u001b[39m\u001b[1m\u001b[36mINFO: \u001b[39m\u001b[22m\u001b[36mRecompiling stale cache file /Users/sadit/.julia/lib/v0.6/PyCall.ji for module PyCall.\n",
      "\u001b[39m\u001b[1m\u001b[36mINFO: \u001b[39m\u001b[22m\u001b[36mRecompiling stale cache file /Users/sadit/.julia/lib/v0.6/PyPlot.ji for module PyPlot.\n",
      "\u001b[39m"
     ]
    }
   ],
   "source": [
    "using Distances\n",
    "using DataStructures\n",
    "#using TextModel\n",
    "using SimilaritySearch\n",
    "#using JSON\n",
    "using PyCall\n",
    "using PyPlot\n",
    "#using Reactive, Interact, Compose\n",
    "@pyimport sklearn.datasets as datagen\n",
    "#include(\"../src/fft.jl\")"
   ]
  },
  {
   "cell_type": "code",
   "execution_count": 2,
   "metadata": {},
   "outputs": [
    {
     "data": {
      "text/plain": [
       "plot_clusters (generic function with 1 method)"
      ]
     },
     "execution_count": 2,
     "metadata": {},
     "output_type": "execute_result"
    }
   ],
   "source": [
    "function plot_clusters(data,labels,centers)\n",
    "    pygui(false)\n",
    "    PyPlot.hold(true)\n",
    "    colors=[\"ro\",\"bo\",\"go\",\"mo\",\"co\",\"yo\",\n",
    "        \"r^\",\"b^\",\"g^\",\"m^\",\"c^\",\"y^\",\n",
    "        \"r*\",\"b*\",\"g*\",\"m*\",\"c*\",\"y*\"]\n",
    "    ci=1\n",
    "    for l in Set(labels)\n",
    "        ind=[i for (i,v) in enumerate(labels) if v==l]\n",
    "        plot(data[ind,1],data[ind,2], colors[ci])\n",
    "        ci=ci+1\n",
    "    end\n",
    "    ax = axes()\n",
    "#    for c in centers#(xp,yp) in zip(data[:,1],data[:,2])\n",
    " #       xp,yp=data[c,1],data[c,2]\n",
    " #       ax[:text](xp, yp, \"$c\", color=\"red\", fontsize=14)\n",
    " #   end\n",
    "  #  plot(data[centers,1],data[centers,2], \"k8\", markersize=10)\n",
    "end"
   ]
  },
  {
   "cell_type": "code",
   "execution_count": 3,
   "metadata": {},
   "outputs": [
    {
     "data": {
      "text/plain": [
       "lassign (generic function with 1 method)"
      ]
     },
     "execution_count": 3,
     "metadata": {},
     "output_type": "execute_result"
    }
   ],
   "source": [
    "function lassign(data,centers)\n",
    "    labels=[]\n",
    "    for i in 1:length(data[:,1]) \n",
    "        x=data[i,:]\n",
    "        dist=sort([(evaluate(Euclidean(), x,data[c,:]),c) for c in centers])\n",
    "        push!(labels,dist[1][2])\n",
    "    end\n",
    "    #println(\"llllllllllll \",labels, \"      \", centers)\n",
    "    return labels\n",
    "end"
   ]
  },
  {
   "cell_type": "code",
   "execution_count": 4,
   "metadata": {},
   "outputs": [
    {
     "data": {
      "text/plain": [
       "ffte (generic function with 1 method)"
      ]
     },
     "execution_count": 4,
     "metadata": {},
     "output_type": "execute_result"
    }
   ],
   "source": [
    "function ffte(data,k::Int64)\n",
    "    n=length(data[:,1])\n",
    "    dst=KnnResult(n)\n",
    "    c=rand(1:n)\n",
    "    centers=[c]\n",
    "    [push!(dst,i,Inf) for i in 1:n if i!=c]\n",
    "    dd=[]\n",
    "    while length(centers)<k\n",
    "        dstn=KnnResult(n)\n",
    "        c=last(centers)\n",
    "        for nn in dst\n",
    "            d=evaluate(Euclidean(), data[c,:],data[nn.objID,:])\n",
    "            d = d<nn.dist ? d : nn.dist\n",
    "            push!(dstn,nn.objID,d)\n",
    "        end\n",
    "        fn=pop!(dstn)\n",
    "        dst=dstn\n",
    "        push!(centers,fn.objID)\n",
    "        push!(dd,fn.dist)\n",
    "    end\n",
    "    labels= lassign(data,centers)\n",
    "    return centers, labels, dd               \n",
    "end"
   ]
  },
  {
   "cell_type": "code",
   "execution_count": 5,
   "metadata": {},
   "outputs": [
    {
     "data": {
      "text/plain": [
       "fftp (generic function with 1 method)"
      ]
     },
     "execution_count": 5,
     "metadata": {},
     "output_type": "execute_result"
    }
   ],
   "source": [
    "function fftp(data,k::Int64)\n",
    "    n=length(data[:,1])\n",
    "    c=rand(1:n)\n",
    "    centers=[c]\n",
    "    partitions=[c for i in 1:n]\n",
    "    dd=[]\n",
    "    gg=[]\n",
    "    while length(centers)<k\n",
    "        res=[]\n",
    "        for c in centers\n",
    "            ind=[(i,l) for (i,l) in enumerate(partitions) if l==c]\n",
    "            dist=sort([(evaluate(Euclidean(), data[c,:],data[i,:]),i,c) for (i,x) in ind])\n",
    "            #println(\":::::::::::::::: \",dist)\n",
    "            push!(res,last(dist))\n",
    "        end\n",
    "        sort!(res)\n",
    "        r=last(res)\n",
    "        push!(centers,r[2])\n",
    "        push!(dd,r[1])\n",
    "        push!(gg,r[3])\n",
    "        partitions = lassign(data,centers)\n",
    "    end\n",
    "    return centers,partitions,dd,gg              \n",
    "end                                              "
   ]
  },
  {
   "cell_type": "code",
   "execution_count": 6,
   "metadata": {
    "collapsed": true
   },
   "outputs": [],
   "source": [
    "r,y=datagen.make_blobs(n_samples=20,centers=5);"
   ]
  },
  {
   "cell_type": "code",
   "execution_count": 7,
   "metadata": {},
   "outputs": [
    {
     "data": {
      "image/png": "[encoded data removed]",
      "text/plain": [
       "PyPlot.Figure(PyObject <matplotlib.figure.Figure object at 0x12d688050>)"
      ]
     },
     "metadata": {},
     "output_type": "display_data"
    },
    {
     "name": "stderr",
     "output_type": "stream",
     "text": [
      "sys:1: MatplotlibDeprecationWarning: pyplot.hold is deprecated.\n",
      "    Future behavior will be consistent with the long-time default:\n",
      "    plot commands add elements without first clearing the\n",
      "    Axes and/or Figure.\n",
      "/Users/sadit/.julia/v0.6/Conda/deps/usr/lib/python2.7/site-packages/matplotlib/__init__.py:917: UserWarning: axes.hold is deprecated. Please remove it from your matplotlibrc and/or style files.\n",
      "  warnings.warn(self.msg_depr_set % key)\n",
      "/Users/sadit/.julia/v0.6/Conda/deps/usr/lib/python2.7/site-packages/matplotlib/rcsetup.py:152: UserWarning: axes.hold is deprecated, will be removed in 3.0\n",
      "  warnings.warn(\"axes.hold is deprecated, will be removed in 3.0\")\n"
     ]
    },
    {
     "data": {
      "text/plain": [
       "PyObject <matplotlib.axes._subplots.AxesSubplot object at 0x133e056d0>"
      ]
     },
     "execution_count": 7,
     "metadata": {},
     "output_type": "execute_result"
    }
   ],
   "source": [
    "centros,lb,dd=ffte(r,5);\n",
    "plot_clusters(r, lb, centros)"
   ]
  },
  {
   "cell_type": "code",
   "execution_count": 19,
   "metadata": {},
   "outputs": [
    {
     "data": {
      "text/plain": [
       "50-element Array{Int64,1}:\n",
       " 1\n",
       " 1\n",
       " 1\n",
       " 1\n",
       " 1\n",
       " 1\n",
       " 1\n",
       " 1\n",
       " 1\n",
       " 1\n",
       " 1\n",
       " 1\n",
       " 1\n",
       " ⋮\n",
       " 1\n",
       " 1\n",
       " 1\n",
       " 1\n",
       " 1\n",
       " 1\n",
       " 1\n",
       " 1\n",
       " 1\n",
       " 1\n",
       " 1\n",
       " 1"
      ]
     },
     "execution_count": 19,
     "metadata": {},
     "output_type": "execute_result"
    }
   ],
   "source": []
  },
  {
   "cell_type": "code",
   "execution_count": 8,
   "metadata": {},
   "outputs": [
    {
     "ename": "LoadError",
     "evalue": "\u001b[91mUndefVarError: gg not defined\u001b[39m",
     "output_type": "error",
     "traceback": [
      "\u001b[91mUndefVarError: gg not defined\u001b[39m",
      ""
     ]
    }
   ],
   "source": [
    "# centros,gg,lb"
   ]
  },
  {
   "cell_type": "code",
   "execution_count": 9,
   "metadata": {},
   "outputs": [
    {
     "data": {
      "text/plain": [
       "([0.545719 0.898787; 0.885182 0.593369; … ; 1.84812 0.0978156; 0.0196831 0.00887546], [0, 0, 0, 0, 1, 0, 1, 1, 0, 0  …  0, 1, 1, 1, 1, 1, 0, 0, 1, 1])"
      ]
     },
     "execution_count": 9,
     "metadata": {},
     "output_type": "execute_result"
    }
   ],
   "source": [
    "r1,y1 = datagen.make_moons(n_samples=1000,noise=0.1)"
   ]
  },
  {
   "cell_type": "code",
   "execution_count": 10,
   "metadata": {},
   "outputs": [
    {
     "data": {
      "image/png": "[encoded data removed]",
      "text/plain": [
       "PyPlot.Figure(PyObject <matplotlib.figure.Figure object at 0x134236f50>)"
      ]
     },
     "metadata": {},
     "output_type": "display_data"
    },
    {
     "data": {
      "text/plain": [
       "4-element Array{Any,1}:\n",
       " 19.5807 \n",
       "  9.16612\n",
       "  8.72242\n",
       "  5.48341"
      ]
     },
     "execution_count": 10,
     "metadata": {},
     "output_type": "execute_result"
    }
   ],
   "source": [
    "centros1,lb1,dd1=ffte(r1,10);\n",
    "plot_clusters(r1,y1,centros1)\n",
    "dd"
   ]
  },
  {
   "cell_type": "code",
   "execution_count": 11,
   "metadata": {},
   "outputs": [
    {
     "name": "stderr",
     "output_type": "stream",
     "text": [
      "\u001b[1m\u001b[36mINFO: \u001b[39m\u001b[22m\u001b[36mRecompiling stale cache file /Users/sadit/.julia/lib/v0.6/DataFrames.ji for module DataFrames.\n",
      "\u001b[39m"
     ]
    },
    {
     "data": {
      "text/plain": [
       "fft (generic function with 2 methods)"
      ]
     },
     "execution_count": 11,
     "metadata": {},
     "output_type": "execute_result"
    }
   ],
   "source": [
    "include(\"../src/fft.jl\")"
   ]
  },
  {
   "cell_type": "code",
   "execution_count": 14,
   "metadata": {},
   "outputs": [],
   "source": [
    "using CPUTime"
   ]
  },
  {
   "cell_type": "code",
   "execution_count": 16,
   "metadata": {},
   "outputs": [],
   "source": [
    "config=TextConfig(); config.nlist=[2]; config.qlist=[5];config.skiplist = []\n",
    "tweets,vbows=list_of_items(\"../data/test.json\",\"text\",config);"
   ]
  },
  {
   "cell_type": "code",
   "execution_count": 20,
   "metadata": {},
   "outputs": [
    {
     "name": "stdout",
     "output_type": "stream",
     "text": [
      ">>>>>>>>>>>>>>> 53378 1.5707963267948966 29755\n",
      ">>>>>>>>>>>>>>> 53377 1.5707963267948966 29754\n",
      ">>>>>>>>>>>>>>> 53374 1.5707963267948966 29753\n",
      ">>>>>>>>>>>>>>> 53371 1.5707963267948966 12953\n",
      ">>>>>>>>>>>>>>> 53360 1.5707963267948966 12952\n",
      ">>>>>>>>>>>>>>> 53359 1.5707963267948966 12951\n",
      ">>>>>>>>>>>>>>> 53375 1.5707963267948966 10665\n",
      ">>>>>>>>>>>>>>> 53336 1.5707963267948966 10664\n",
      ">>>>>>>>>>>>>>> 53329 1.5707963267948966 10663\n",
      "elapsed CPU time: 1.853175 seconds\n",
      "  1.897334 seconds (2.02 M allocations: 95.822 MiB, 4.28% gc time)\n"
     ]
    }
   ],
   "source": [
    "@time @CPUtime c=fft(vbows,tweets,config,\"text\",\"3\",\"maxmin\");"
   ]
  },
  {
   "cell_type": "code",
   "execution_count": 17,
   "metadata": {},
   "outputs": [
    {
     "data": {
      "text/plain": [
       "animate_plot (generic function with 1 method)"
      ]
     },
     "execution_count": 17,
     "metadata": {},
     "output_type": "execute_result"
    }
   ],
   "source": [
    "@pyimport matplotlib.patches as patches\n",
    "function animate_plot(data,centers,dd)\n",
    "    pygui(true)\n",
    "    PyPlot.ion()\n",
    "    figure=PyPlot.figure()\n",
    "    ax = axes()\n",
    "    ax[:set_aspect](\"equal\")\n",
    "    cc=[\"r\",\"b\",\"g\",\"m\",\"c\",\"y\"]\n",
    "    colors=[\"ro\",\"bo\",\"go\",\"mo\",\"co\",\"yo\",\n",
    "            \"r^\",\"b^\",\"g^\",\"m^\",\"c^\",\"y^\",\n",
    "            \"r*\",\"b*\",\"g*\",\"m*\",\"c*\",\"y*\"]\n",
    "    #min,max=minimum(data)-dd[1],maximum(data)+dd[1]\n",
    "    min,max=-20,20\n",
    "    for i = 1:length(centers)\n",
    "        PyPlot.hold(true)\n",
    "        ax[:cla]()\n",
    "        ax[:set_ylim]([min,max])\n",
    "        ax[:set_xlim]([min,max])\n",
    "        #axis([0,2pi,-1,1])\n",
    "        lcenters=centers[1:i]\n",
    "        println(\"3333333\",lcenters)\n",
    "        labels=lassign(data,lcenters)\n",
    "        ci=1\n",
    "        for l in Set(labels)\n",
    "            ind=[i for (i,v) in enumerate(labels) if v==l]\n",
    "            ax[:plot](data[ind,1],data[ind,2], colors[ci])\n",
    "            ci=ci+1\n",
    "        end\n",
    "        r = i>1 ? dd[i-1] : dd[1]\n",
    "        for j in 1:i\n",
    "            cc=lcenters[j]\n",
    "            cir=patches.Circle(data[cc,:],r,\n",
    "                                fc=\"blue\",alpha=0.1,\n",
    "                                linewidth=.5,zorder=0)\n",
    "            ax[:add_artist](cir)\n",
    "        end\n",
    "        ax[:plot](data[lcenters,1],data[lcenters,2], \"k8\", markersize=10)\n",
    "        #println(keys(ax))\n",
    "        pause(0.1)\n",
    "        PyPlot.draw()\n",
    "        savefig(\"dreporte$i.png\")\n",
    "        PyPlot.hold(false)\n",
    "    end\n",
    "end"
   ]
  },
  {
   "cell_type": "code",
   "execution_count": 18,
   "metadata": {},
   "outputs": [
    {
     "data": {
      "text/plain": [
       "animate_path (generic function with 1 method)"
      ]
     },
     "execution_count": 18,
     "metadata": {},
     "output_type": "execute_result"
    }
   ],
   "source": [
    "@pyimport matplotlib.patches as patches\n",
    "function animate_path(data,centers,dd)\n",
    "    pygui(true)\n",
    "    PyPlot.ion()\n",
    "    figure=PyPlot.figure()\n",
    "    ax = axes()\n",
    "    ax[:set_aspect](\"equal\")\n",
    "    cc=[\"r\",\"b\",\"g\",\"m\",\"c\",\"y\"]\n",
    "    colors=[\"ro\",\"bo\",\"go\",\"mo\",\"co\",\"yo\",\n",
    "            \"r^\",\"b^\",\"g^\",\"m^\",\"c^\",\"y^\",\n",
    "            \"r*\",\"b*\",\"g*\",\"m*\",\"c*\",\"y*\"]\n",
    "    min,max=minimum(data)-1,maximum(data)+1\n",
    "    min,max=-20,20\n",
    "    for i = 1:length(centers)\n",
    "        PyPlot.hold(true)\n",
    "        ax[:cla]()\n",
    "        ax[:set_ylim]([min,max])\n",
    "        ax[:set_xlim]([min,max])\n",
    "        lcenters=centers[1:i]\n",
    "        labels=lassign(data,lcenters)\n",
    "        ci=1\n",
    "        for l in Set(labels)\n",
    "            ind=[i for (i,v) in enumerate(labels) if v==l]\n",
    "            ax[:plot](data[ind,1],data[ind,2], colors[ci])\n",
    "            ci=ci+1\n",
    "        end\n",
    "        r = i>1 ? dd[i-1] : dd[1]\n",
    "        for j in 1:i-1\n",
    "            xi,yi=data[lcenters[j],:]\n",
    "            xf,yf=data[lcenters[j+1],:]\n",
    "            dx=xf-xi\n",
    "            dy=yf-yi\n",
    "            arr=patches.Arrow(xi,yi,dx,dy,zorder=1000,width=0.5)\n",
    "            ax[:add_artist](arr)\n",
    "        end\n",
    "        ax[:plot](data[lcenters,1],data[lcenters,2], \"k8\", markersize=10)\n",
    "        #println(keys(ax))\n",
    "        pause(0.1)\n",
    "        PyPlot.draw()\n",
    "        savefig(\"rpath$i.png\")\n",
    "        PyPlot.hold(false)\n",
    "    end\n",
    "end"
   ]
  },
  {
   "cell_type": "code",
   "execution_count": 11,
   "metadata": {
    "collapsed": true
   },
   "outputs": [],
   "source": []
  },
  {
   "cell_type": "code",
   "execution_count": 20,
   "metadata": {},
   "outputs": [
    {
     "data": {
      "image/png": "[encoded data removed]",
      "text/plain": [
       "PyPlot.Figure(PyObject <matplotlib.figure.Figure object at 0x13d02bf90>)"
      ]
     },
     "metadata": {},
     "output_type": "display_data"
    },
    {
     "data": {
      "text/plain": [
       "PyObject <matplotlib.axes._subplots.AxesSubplot object at 0x13d00d750>"
      ]
     },
     "execution_count": 20,
     "metadata": {},
     "output_type": "execute_result"
    }
   ],
   "source": [
    "r,y=datagen.make_blobs(n_samples=20,centers=5);\n",
    "centros,lb,dd=ffte(r,5);\n",
    "plot_clusters(r, y, centros)\n"
   ]
  },
  {
   "cell_type": "code",
   "execution_count": 21,
   "metadata": {},
   "outputs": [
    {
     "name": "stdout",
     "output_type": "stream",
     "text": [
      "3333333[3]\n",
      "3333333[3, 4]\n",
      "3333333"
     ]
    },
    {
     "name": "stderr",
     "output_type": "stream",
     "text": [
      "/Users/sadit/.julia/v0.6/Conda/deps/usr/lib/python2.7/site-packages/matplotlib/backend_bases.py:2453: MatplotlibDeprecationWarning: Using default event loop until function specific to this GUI is implemented\n",
      "  warnings.warn(str, mplDeprecation)\n"
     ]
    },
    {
     "name": "stdout",
     "output_type": "stream",
     "text": [
      "[3, 4, 13]\n",
      "3333333[3, 4, 13, 16]\n",
      "3333333[3, 4, 13, 16, 8]\n"
     ]
    }
   ],
   "source": [
    "animate_plot(r,centros,dd)"
   ]
  },
  {
   "cell_type": "code",
   "execution_count": 22,
   "metadata": {
    "collapsed": true
   },
   "outputs": [],
   "source": [
    "animate_path(r,centros,dd)"
   ]
  },
  {
   "cell_type": "code",
   "execution_count": 23,
   "metadata": {},
   "outputs": [
    {
     "data": {
      "text/plain": [
       "5-element Array{Int64,1}:\n",
       "  3\n",
       "  4\n",
       " 13\n",
       " 16\n",
       "  8"
      ]
     },
     "execution_count": 23,
     "metadata": {},
     "output_type": "execute_result"
    }
   ],
   "source": [
    "centros"
   ]
  },
  {
   "cell_type": "code",
   "execution_count": 24,
   "metadata": {},
   "outputs": [
    {
     "ename": "LoadError",
     "evalue": "\u001b[91mUndefVarError: xx not defined\u001b[39m",
     "output_type": "error",
     "traceback": [
      "\u001b[91mUndefVarError: xx not defined\u001b[39m",
      ""
     ]
    }
   ],
   "source": [
    "println(\"El valor de x es $xx\")"
   ]
  },
  {
   "cell_type": "code",
   "execution_count": 25,
   "metadata": {},
   "outputs": [
    {
     "data": {
      "text/plain": [
       "animate_partition (generic function with 1 method)"
      ]
     },
     "execution_count": 25,
     "metadata": {},
     "output_type": "execute_result"
    }
   ],
   "source": [
    "@pyimport matplotlib.patches as patches\n",
    "function animate_partition(data,centers,dd,gg)\n",
    "    pygui(true)\n",
    "    PyPlot.ion()\n",
    "    figure=PyPlot.figure()\n",
    "    ax = axes()\n",
    "    cc=[\"r\",\"b\",\"g\",\"m\",\"c\",\"y\"]\n",
    "    colors=[\"ro\",\"bo\",\"go\",\"mo\",\"co\",\"yo\",\n",
    "            \"r^\",\"b^\",\"g^\",\"m^\",\"c^\",\"y^\",\n",
    "            \"r*\",\"b*\",\"g*\",\"m*\",\"c*\",\"y*\"]\n",
    "    min,max=minimum(data)-dd[1],maximum(data)+dd[1]\n",
    "    ax[:set_aspect](\"equal\")\n",
    "    for i = 1:length(centers)\n",
    "        PyPlot.hold(true)\n",
    "        ax[:cla]()\n",
    "        ax[:set_ylim]([min,max])\n",
    "        ax[:set_xlim]([min,max])\n",
    "        #axis([0,2pi,-1,1])\n",
    "        lcenters=centers[1:i]\n",
    "        labels=lassign(data,lcenters)\n",
    "        ci=1\n",
    "        for l in Set(labels)\n",
    "            ind=[i for (i,v) in enumerate(labels) if v==l]\n",
    "            ax[:plot](data[ind,1],data[ind,2], colors[ci])\n",
    "            ci=ci+1\n",
    "        end\n",
    "        counter=1\n",
    "        #for (xp,yp) in zip(data[:,1],data[:,2])\n",
    "        #      ax[:text](xp, yp, \"$counter\", color=\"red\", fontsize=14)\n",
    "         #     counter=counter+1\n",
    "        #end\n",
    "        #r = i>1 ? dd[i-1] : dd[1]\n",
    "        for j in 1:i\n",
    "            if j>1\n",
    "                cc=gg[j-1]\n",
    "                cd=centros[j]\n",
    "                rr=evaluate(Euclidean(), data[cc,:], data[cd,:] )\n",
    "                cir=patches.Circle(data[cc,:], rr,\n",
    "                            fc=\"blue\",alpha=0.1,\n",
    "                            linewidth=.5,zorder=0)\n",
    "                ax[:add_artist](cir)\n",
    "            end\n",
    "        end\n",
    "        ax[:plot](data[lcenters,1],data[lcenters,2], \"k8\", markersize=10)\n",
    "        #println(keys(ax))\n",
    "        pause(1)\n",
    "        PyPlot.draw()\n",
    "        prefijo = i<10 ? \"0$i\": \"$i\"\n",
    "        savefig(\"partitionbuena$prefijo.png\")\n",
    "        PyPlot.hold(false)\n",
    "    end\n",
    "end"
   ]
  },
  {
   "cell_type": "code",
   "execution_count": 26,
   "metadata": {},
   "outputs": [
    {
     "ename": "LoadError",
     "evalue": "\u001b[91mUndefVarError: gg not defined\u001b[39m",
     "output_type": "error",
     "traceback": [
      "\u001b[91mUndefVarError: gg not defined\u001b[39m",
      ""
     ]
    }
   ],
   "source": [
    "animate_partition(r,centros,dd,gg)"
   ]
  },
  {
   "cell_type": "code",
   "execution_count": 14,
   "metadata": {},
   "outputs": [
    {
     "data": {
      "text/plain": [
       "4-element Array{Any,1}:\n",
       " 15\n",
       " 15\n",
       " 15\n",
       " 18"
      ]
     },
     "execution_count": 14,
     "metadata": {},
     "output_type": "execute_result"
    }
   ],
   "source": [
    "gg"
   ]
  },
  {
   "cell_type": "code",
   "execution_count": 75,
   "metadata": {},
   "outputs": [
    {
     "data": {
      "text/plain": [
       "5-element Array{Int64,1}:\n",
       " 2\n",
       " 1\n",
       " 5\n",
       " 3\n",
       " 4"
      ]
     },
     "execution_count": 75,
     "metadata": {},
     "output_type": "execute_result"
    }
   ],
   "source": [
    "centros"
   ]
  },
  {
   "cell_type": "code",
   "execution_count": 387,
   "metadata": {},
   "outputs": [
    {
     "data": {
      "text/plain": [
       "4.870011465499301"
      ]
     },
     "execution_count": 387,
     "metadata": {},
     "output_type": "execute_result"
    }
   ],
   "source": []
  },
  {
   "cell_type": "code",
   "execution_count": 27,
   "metadata": {},
   "outputs": [
    {
     "data": {
      "text/plain": [
       "20-element Array{Float64,1}:\n",
       " 1.16082  \n",
       " 0.729654 \n",
       " 0.479324 \n",
       " 2.97423  \n",
       " 1.33187  \n",
       " 0.417741 \n",
       " 7.12866  \n",
       " 7.19347  \n",
       " 0.0      \n",
       " 6.62478  \n",
       " 0.351445 \n",
       " 6.71003  \n",
       " 1.12011  \n",
       " 7.1565   \n",
       " 0.0739056\n",
       " 8.58283  \n",
       " 0.230843 \n",
       " 4.59278  \n",
       " 0.0332842\n",
       " 0.829577 "
      ]
     },
     "execution_count": 27,
     "metadata": {},
     "output_type": "execute_result"
    }
   ],
   "source": [
    "[evaluate(Euclidean(),r[9], r[i]) for i in 1:length(r[:,1])]"
   ]
  },
  {
   "cell_type": "code",
   "execution_count": 320,
   "metadata": {},
   "outputs": [
    {
     "data": {
      "text/plain": [
       "4-element Array{Any,1}:\n",
       " 17.4978 \n",
       " 14.8089 \n",
       "  7.68602\n",
       "  4.0468 "
      ]
     },
     "execution_count": 320,
     "metadata": {},
     "output_type": "execute_result"
    }
   ],
   "source": [
    "dd"
   ]
  },
  {
   "cell_type": "code",
   "execution_count": 422,
   "metadata": {},
   "outputs": [
    {
     "data": {
      "text/plain": [
       "(Any[2, 2, 6, 2], Any[14.7662, 5.94798, 4.73666, 3.3654], [2, 15, 6, 3, 14])"
      ]
     },
     "execution_count": 422,
     "metadata": {},
     "output_type": "execute_result"
    }
   ],
   "source": [
    "gg,dd,centros"
   ]
  },
  {
   "cell_type": "code",
   "execution_count": 423,
   "metadata": {},
   "outputs": [
    {
     "data": {
      "text/plain": [
       "20-element Array{Any,1}:\n",
       "  2\n",
       "  2\n",
       "  3\n",
       "  6\n",
       " 15\n",
       "  6\n",
       " 14\n",
       "  6\n",
       "  6\n",
       " 15\n",
       " 15\n",
       "  3\n",
       "  2\n",
       " 14\n",
       " 15\n",
       "  3\n",
       "  2\n",
       "  2\n",
       "  3\n",
       " 14"
      ]
     },
     "execution_count": 423,
     "metadata": {},
     "output_type": "execute_result"
    }
   ],
   "source": [
    "lb"
   ]
  },
  {
   "cell_type": "code",
   "execution_count": 47,
   "metadata": {},
   "outputs": [
    {
     "data": {
      "text/plain": [
       "5×2 Array{Float64,2}:\n",
       "  4.34168    3.31327\n",
       "  0.886109   3.81546\n",
       "  4.70611   -6.84131\n",
       "  3.48829    2.20299\n",
       " -4.39752   -7.25579"
      ]
     },
     "execution_count": 47,
     "metadata": {},
     "output_type": "execute_result"
    }
   ],
   "source": [
    "r"
   ]
  },
  {
   "cell_type": "code",
   "execution_count": 35,
   "metadata": {},
   "outputs": [
    {
     "data": {
      "text/plain": [
       "4-element Array{Any,1}:\n",
       "  2\n",
       "  8\n",
       "  2\n",
       " 21"
      ]
     },
     "execution_count": 35,
     "metadata": {},
     "output_type": "execute_result"
    }
   ],
   "source": [
    "gg"
   ]
  },
  {
   "cell_type": "code",
   "execution_count": 28,
   "metadata": {},
   "outputs": [
    {
     "data": {
      "text/plain": [
       "8.697764058818144"
      ]
     },
     "execution_count": 28,
     "metadata": {},
     "output_type": "execute_result"
    }
   ],
   "source": [
    "evaluate(Euclidean(), r[5,:], r[3,:])"
   ]
  },
  {
   "cell_type": "code",
   "execution_count": 61,
   "metadata": {},
   "outputs": [
    {
     "data": {
      "text/plain": [
       "4-element Array{Any,1}:\n",
       " 9.10363 \n",
       " 3.82    \n",
       " 3.45557 \n",
       " 0.853395"
      ]
     },
     "execution_count": 61,
     "metadata": {},
     "output_type": "execute_result"
    }
   ],
   "source": [
    "dd"
   ]
  },
  {
   "cell_type": "code",
   "execution_count": 77,
   "metadata": {},
   "outputs": [
    {
     "data": {
      "text/plain": [
       "5×2 Array{Float64,2}:\n",
       "  2.83566    2.62948\n",
       " -1.77122    7.57811\n",
       "  0.866751  -6.26713\n",
       " -1.11452    6.71172\n",
       " -2.57071   -3.17042"
      ]
     },
     "execution_count": 77,
     "metadata": {},
     "output_type": "execute_result"
    }
   ],
   "source": [
    "r"
   ]
  },
  {
   "cell_type": "code",
   "execution_count": 29,
   "metadata": {},
   "outputs": [
    {
     "data": {
      "text/plain": [
       "pdist (generic function with 1 method)"
      ]
     },
     "execution_count": 29,
     "metadata": {},
     "output_type": "execute_result"
    }
   ],
   "source": [
    "function pdist(data)\n",
    "    n=length(r[:,1])\n",
    "    D=zeros(n,n)\n",
    "    for i in 1:n\n",
    "        for j in i:n\n",
    "            dij=evaluate(Euclidean(),data[i,:],data[j,:])\n",
    "            #println(\"$i,$j \", dij)\n",
    "            D[i,j]=dij\n",
    "            D[j,i]= dij\n",
    "        end\n",
    "    end\n",
    "    return D\n",
    "end"
   ]
  },
  {
   "cell_type": "code",
   "execution_count": 30,
   "metadata": {},
   "outputs": [
    {
     "data": {
      "text/plain": [
       "fftc (generic function with 1 method)"
      ]
     },
     "execution_count": 30,
     "metadata": {},
     "output_type": "execute_result"
    }
   ],
   "source": [
    "function fftc(data, k)\n",
    "    n=length(data[:,1])\n",
    "    c=rand(1:n)\n",
    "    c=1\n",
    "    centers=[c]\n",
    "    D=pdist(data)\n",
    "    dd=[]\n",
    "    while length(centers)<k\n",
    "        #media=mean([data[c,:] for c in centers])\n",
    "        dist=mean([D[i,:] for i in centers])\n",
    "        #println(argsort)\n",
    "        #println(dist)\n",
    "        #dist=[evaluate(Euclidean(), data[j,:], media) for j in 1:length(data[:,1])]\n",
    "        #println(dist)\n",
    "        argsort=sortperm(dist, rev=true)\n",
    "        for i in argsort\n",
    "            if !(i in centers)\n",
    "                push!(centers,i)\n",
    "                push!(dd,dist[i])\n",
    "                break\n",
    "            end\n",
    "        end\n",
    "    end\n",
    "    labels= lassign(data,centers)\n",
    "    return centers,labels,dd\n",
    "end"
   ]
  },
  {
   "cell_type": "code",
   "execution_count": 31,
   "metadata": {},
   "outputs": [
    {
     "ename": "LoadError",
     "evalue": "\u001b[91mUndefVarError: DD not defined\u001b[39m",
     "output_type": "error",
     "traceback": [
      "\u001b[91mUndefVarError: DD not defined\u001b[39m",
      ""
     ]
    }
   ],
   "source": [
    "DD[10,:]"
   ]
  },
  {
   "cell_type": "code",
   "execution_count": 269,
   "metadata": {},
   "outputs": [
    {
     "data": {
      "image/png": "[encoded data removed]",
      "text/plain": [
       "PyPlot.Figure(PyObject <matplotlib.figure.Figure object at 0x148137be0>)"
      ]
     },
     "metadata": {},
     "output_type": "display_data"
    },
    {
     "data": {
      "text/plain": [
       "1-element Array{Any,1}:\n",
       " PyObject <matplotlib.lines.Line2D object at 0x149cee470>"
      ]
     },
     "execution_count": 269,
     "metadata": {},
     "output_type": "execute_result"
    }
   ],
   "source": [
    "centrosc,lbc,ddc=fftc(r,5)\n",
    "plot_clusters(r,lbc,centrosc)"
   ]
  },
  {
   "cell_type": "code",
   "execution_count": 255,
   "metadata": {},
   "outputs": [
    {
     "data": {
      "text/plain": [
       "5-element Array{Int64,1}:\n",
       " 23\n",
       " 21\n",
       " 16\n",
       " 18\n",
       " 17"
      ]
     },
     "execution_count": 255,
     "metadata": {},
     "output_type": "execute_result"
    }
   ],
   "source": [
    "centrosc"
   ]
  },
  {
   "cell_type": "code",
   "execution_count": 256,
   "metadata": {},
   "outputs": [
    {
     "data": {
      "text/plain": [
       "25-element Array{Float64,1}:\n",
       "  8.08467\n",
       "  8.63225\n",
       "  7.85113\n",
       "  8.95078\n",
       "  8.57066\n",
       "  8.4492 \n",
       "  8.83987\n",
       "  9.0582 \n",
       " 10.9831 \n",
       "  8.08811\n",
       "  8.92182\n",
       "  7.83446\n",
       "  8.18054\n",
       "  7.73321\n",
       "  9.32758\n",
       " 12.0125 \n",
       " 11.5169 \n",
       "  7.99036\n",
       " 11.1446 \n",
       "  8.92623\n",
       "  8.31753\n",
       "  8.22181\n",
       "  8.80246\n",
       "  8.62523\n",
       " 11.4369 "
      ]
     },
     "execution_count": 256,
     "metadata": {},
     "output_type": "execute_result"
    }
   ],
   "source": [
    "mean([DD[i,:] for i in [23,21,16,18]])"
   ]
  },
  {
   "cell_type": "code",
   "execution_count": null,
   "metadata": {
    "collapsed": true
   },
   "outputs": [],
   "source": []
  }
 ],
 "metadata": {
  "kernelspec": {
   "display_name": "Julia 0.6.0",
   "language": "julia",
   "name": "julia-0.6"
  },
  "language_info": {
   "file_extension": ".jl",
   "mimetype": "application/julia",
   "name": "julia",
   "version": "0.6.0"
  }
 },
 "nbformat": 4,
 "nbformat_minor": 2
}
