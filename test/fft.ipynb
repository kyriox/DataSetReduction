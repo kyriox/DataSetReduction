{
 "cells": [
  {
   "cell_type": "code",
   "execution_count": 1,
   "metadata": {},
   "outputs": [
    {
     "data": {
      "text/html": [
       "<div id=\"interact-js-shim\">\n",
       "    <script charset=\"utf-8\">\n",
       "(function (IPython, $, _, MathJax) {\n",
       "    $.event.special.destroyed = {\n",
       "\tremove: function(o) {\n",
       "\t    if (o.handler) {\n",
       "\t\to.handler.apply(this, arguments)\n",
       "\t    }\n",
       "\t}\n",
       "    }\n",
       "\n",
       "    var OutputArea = IPython.version >= \"4.0.0\" ? require(\"notebook/js/outputarea\").OutputArea : IPython.OutputArea;\n",
       "\n",
       "    var redrawValue = function (container, type, val) {\n",
       "\tvar selector = $(\"<div/>\");\n",
       "\tvar oa = new OutputArea(_.extend(selector, {\n",
       "\t    selector: selector,\n",
       "\t    prompt_area: true,\n",
       "\t    events: IPython.events,\n",
       "\t    keyboard_manager: IPython.keyboard_manager\n",
       "\t})); // Hack to work with IPython 2.1.0\n",
       "\n",
       "\tswitch (type) {\n",
       "\tcase \"image/png\":\n",
       "            var _src = 'data:' + type + ';base64,' + val;\n",
       "\t    $(container).find(\"img\").attr('src', _src);\n",
       "\t    break;\n",
       "\tcase \"text/latex\":\n",
       "\t\tif (MathJax){\n",
       "\t\t\tvar math = MathJax.Hub.getAllJax(container)[0];\n",
       "\t\t\tMathJax.Hub.Queue([\"Text\", math, val.replace(/^\\${1,2}|\\${1,2}$/g, '')]);\n",
       "\t\t\tbreak;\n",
       "\t\t}\n",
       "\tdefault:\n",
       "\t    var toinsert = OutputArea.append_map[type].apply(\n",
       "\t\toa, [val, {}, selector]\n",
       "\t    );\n",
       "\t    $(container).empty().append(toinsert.contents());\n",
       "\t    selector.remove();\n",
       "\t}\n",
       "    }\n",
       "\n",
       "\n",
       "    $(document).ready(function() {\n",
       "\tfunction initComm(evt, data) {\n",
       "\t    var comm_manager = data.kernel.comm_manager;\n",
       "        //_.extend(comm_manager.targets, require(\"widgets/js/widget\"))\n",
       "\t    comm_manager.register_target(\"Signal\", function (comm) {\n",
       "            comm.on_msg(function (msg) {\n",
       "                var val = msg.content.data.value;\n",
       "                $(\".signal-\" + comm.comm_id).each(function() {\n",
       "                var type = $(this).data(\"type\");\n",
       "                if (typeof(val[type]) !== \"undefined\" && val[type] !== null) {\n",
       "                    redrawValue(this, type, val[type], type);\n",
       "                }\n",
       "                });\n",
       "                delete val;\n",
       "                delete msg.content.data.value;\n",
       "            });\n",
       "\t    });\n",
       "\n",
       "\t    // coordingate with Comm and redraw Signals\n",
       "\t    // XXX: Test using Reactive here to improve performance\n",
       "\t    $([IPython.events]).on(\n",
       "\t\t'output_appended.OutputArea', function (event, type, value, md, toinsert) {\n",
       "\t\t    if (md && md.reactive) {\n",
       "                // console.log(md.comm_id);\n",
       "                toinsert.addClass(\"signal-\" + md.comm_id);\n",
       "                toinsert.data(\"type\", type);\n",
       "                // Signal back indicating the mimetype required\n",
       "                var comm_manager = IPython.notebook.kernel.comm_manager;\n",
       "                var comm = comm_manager.comms[md.comm_id];\n",
       "                comm.then(function (c) {\n",
       "                    c.send({action: \"subscribe_mime\",\n",
       "                       mime: type});\n",
       "                    toinsert.bind(\"destroyed\", function() {\n",
       "                        c.send({action: \"unsubscribe_mime\",\n",
       "                               mime: type});\n",
       "                    });\n",
       "                })\n",
       "\t\t    }\n",
       "\t    });\n",
       "\t}\n",
       "\n",
       "\ttry {\n",
       "\t    // try to initialize right away. otherwise, wait on the status_started event.\n",
       "\t    initComm(undefined, IPython.notebook);\n",
       "\t} catch (e) {\n",
       "\t    $([IPython.events]).on('kernel_created.Kernel kernel_created.Session', initComm);\n",
       "\t}\n",
       "    });\n",
       "})(IPython, jQuery, _, MathJax);\n",
       "</script>\n",
       "    <script>\n",
       "        window.interactLoadedFlag = true\n",
       "       $(\"#interact-js-shim\").bind(\"destroyed\", function () {\n",
       "           if (window.interactLoadedFlag) {\n",
       "               console.warn(\"JavaScript required by Interact will be removed if you remove this cell or run using Interact more than once.\")\n",
       "           }\n",
       "       })\n",
       "       $([IPython.events]).on(\"kernel_starting.Kernel kernel_restarting.Kernel\", function () { window.interactLoadedFlag = false })\n",
       "   </script>\n",
       "</div>"
      ]
     },
     "metadata": {},
     "output_type": "display_data"
    },
    {
     "name": "stderr",
     "output_type": "stream",
     "text": [
      "WARNING: BinDeps.shlib_ext is deprecated.\n",
      "  likely near /Users/sadit/.julia/v0.6/TextAnalysis/src/stemmer.jl:1\n"
     ]
    },
    {
     "data": {
      "text/plain": [
       "fft (generic function with 2 methods)"
      ]
     },
     "execution_count": 1,
     "metadata": {},
     "output_type": "execute_result"
    }
   ],
   "source": [
    "using Distances\n",
    "using DataStructures\n",
    "using TextModel\n",
    "using SimilaritySearch\n",
    "using JSON\n",
    "using PyCall\n",
    "using PyPlot\n",
    "using Interact\n",
    "@pyimport sklearn.datasets as datagen\n",
    "include(\"../src/fft.jl\")"
   ]
  },
  {
   "cell_type": "code",
   "execution_count": 2,
   "metadata": {},
   "outputs": [
    {
     "data": {
      "text/plain": [
       "plot_clusters (generic function with 1 method)"
      ]
     },
     "execution_count": 2,
     "metadata": {},
     "output_type": "execute_result"
    }
   ],
   "source": [
    "function plot_clusters(data,labels,centers)\n",
    "    colors=[\"ro\",\"bo\",\"go\",\"mo\",\"co\",\"yo\",\n",
    "        \"r^\",\"b^\",\"g^\",\"m^\",\"c^\",\"y^\",\n",
    "        \"r*\",\"b*\",\"g*\",\"m*\",\"c*\",\"y*\"]\n",
    "    ci=1\n",
    "    for l in Set(labels)\n",
    "        ind=[i for (i,v) in enumerate(labels) if v==l]\n",
    "        plot(data[ind,1],data[ind,2], colors[ci])\n",
    "        ci=ci+1\n",
    "    end\n",
    "    plot(data[centers,1],data[centers,2], \"k8\", markersize=10)\n",
    "end"
   ]
  },
  {
   "cell_type": "code",
   "execution_count": 3,
   "metadata": {},
   "outputs": [
    {
     "data": {
      "text/plain": [
       "lassign (generic function with 1 method)"
      ]
     },
     "execution_count": 3,
     "metadata": {},
     "output_type": "execute_result"
    }
   ],
   "source": [
    "function lassign(data,centers)\n",
    "    labels=[]\n",
    "    for i in 1:length(data[:,1]) \n",
    "        x=data[i,:]\n",
    "        dist=sort([(evaluate(Euclidean(), x,data[c,:]),c) for c in centers])\n",
    "        push!(labels,dist[1][2])\n",
    "    end\n",
    "    return labels\n",
    "end"
   ]
  },
  {
   "cell_type": "code",
   "execution_count": 4,
   "metadata": {},
   "outputs": [
    {
     "data": {
      "text/plain": [
       "ffte (generic function with 1 method)"
      ]
     },
     "execution_count": 4,
     "metadata": {},
     "output_type": "execute_result"
    }
   ],
   "source": [
    "function ffte(data,k::Int64)\n",
    "    n=length(data[:,1])\n",
    "    dst=KnnResult(n)\n",
    "    c=rand(1:n)\n",
    "    centers=[c]\n",
    "    [push!(dst,i,Inf) for i in 1:n if i!=c] \n",
    "    while length(centers)<k\n",
    "        dstn=KnnResult(n)\n",
    "        c=last(centers)\n",
    "        for nn in dst\n",
    "            d=evaluate(Euclidean(), data[c,:],data[nn.objID,:])\n",
    "            d = d<nn.dist ? d : nn.dist\n",
    "            push!(dstn,nn.objID,d)\n",
    "        end\n",
    "        fn=pop!(dstn)\n",
    "        dst=dstn\n",
    "        push!(centers,fn.objID)\n",
    "    end\n",
    "    labels= lassign(data,centers)\n",
    "    return centers, labels               \n",
    "end"
   ]
  },
  {
   "cell_type": "code",
   "execution_count": 5,
   "metadata": {},
   "outputs": [
    {
     "data": {
      "text/plain": [
       "fftp (generic function with 1 method)"
      ]
     },
     "execution_count": 5,
     "metadata": {},
     "output_type": "execute_result"
    }
   ],
   "source": [
    "function fftp(data,k::Int64)\n",
    "    n=length(data[:,1])\n",
    "    c=rand(1:n)\n",
    "    centers=[c]\n",
    "    partitions=[c for i in 1:n]\n",
    "    while length(centers)<k\n",
    "        res=KnnResult(length(centers))\n",
    "        for c in centers\n",
    "            ind=[(i,l) for (i,l) in enumerate(partitions) if l==c]\n",
    "            dist=sort([(evaluate(Euclidean(), data[c],data[i]),i) for (i,x) in ind])\n",
    "            push!(res,last(dist)[2],last(dist)[1])\n",
    "        end\n",
    "        push!(centers,last(res).objID) \n",
    "        partitions = lassign(data,centers)\n",
    "    end\n",
    "    return centers,partitions              \n",
    "end"
   ]
  },
  {
   "cell_type": "code",
   "execution_count": 6,
   "metadata": {
    "collapsed": true
   },
   "outputs": [],
   "source": [
    "r,y=datagen.make_blobs(n_samples=2000,centers=5);"
   ]
  },
  {
   "cell_type": "code",
   "execution_count": 7,
   "metadata": {},
   "outputs": [
    {
     "data": {
      "image/png": "[encoded data removed]",
      "text/plain": [
       "PyPlot.Figure(PyObject <matplotlib.figure.Figure object at 0x13269c050>)"
      ]
     },
     "metadata": {},
     "output_type": "display_data"
    },
    {
     "data": {
      "text/plain": [
       "5-element Array{Int64,1}:\n",
       " 1872\n",
       "  684\n",
       " 1913\n",
       "  642\n",
       "  287"
      ]
     },
     "execution_count": 7,
     "metadata": {},
     "output_type": "execute_result"
    }
   ],
   "source": [
    "centros,lb=ffte(r,5);\n",
    "plot_clusters(r,lb,centros)\n",
    "centros"
   ]
  },
  {
   "cell_type": "code",
   "execution_count": 8,
   "metadata": {},
   "outputs": [
    {
     "data": {
      "text/plain": [
       "([0.00501412 0.926556; -0.357845 1.08293; … ; 1.08647 0.0521517; 0.344645 0.826629], [0, 0, 1, 1, 0, 1, 1, 1, 1, 1  …  1, 1, 0, 1, 0, 1, 1, 0, 0, 0])"
      ]
     },
     "execution_count": 8,
     "metadata": {},
     "output_type": "execute_result"
    }
   ],
   "source": [
    "r1,y1 = datagen.make_moons(n_samples=1000,noise=0.1)"
   ]
  },
  {
   "cell_type": "code",
   "execution_count": 9,
   "metadata": {},
   "outputs": [
    {
     "data": {
      "image/png": "[encoded data removed]",
      "text/plain": [
       "PyPlot.Figure(PyObject <matplotlib.figure.Figure object at 0x138f76e50>)"
      ]
     },
     "metadata": {},
     "output_type": "display_data"
    },
    {
     "data": {
      "text/plain": [
       "1-element Array{Any,1}:\n",
       " PyObject <matplotlib.lines.Line2D object at 0x13c277990>"
      ]
     },
     "execution_count": 9,
     "metadata": {},
     "output_type": "execute_result"
    }
   ],
   "source": [
    "centros1,lb1=ffte(r1,10);\n",
    "plot_clusters(r1,y1,centros1)"
   ]
  },
  {
   "cell_type": "code",
   "execution_count": 10,
   "metadata": {},
   "outputs": [
    {
     "data": {
      "text/plain": [
       "fft (generic function with 2 methods)"
      ]
     },
     "execution_count": 10,
     "metadata": {},
     "output_type": "execute_result"
    }
   ],
   "source": [
    "include(\"../src/fft.jl\")"
   ]
  },
  {
   "cell_type": "code",
   "execution_count": 11,
   "metadata": {
    "collapsed": true
   },
   "outputs": [],
   "source": [
    "config=TextConfig(stem=true, del_sw=true, lang=Languages.SpanishLanguage)\n",
    "config.nlist = [0]\n",
    "config.qlist = []\n",
    "config.skiplist = []\n",
    "tweets,vbows=list_of_items(\"../data/test.json\",\"text\",config);"
   ]
  },
  {
   "cell_type": "code",
   "execution_count": 12,
   "metadata": {},
   "outputs": [
    {
     "name": "stdout",
     "output_type": "stream",
     "text": [
      ">>>>>>>>>>>>>>> 81 0.0 9\n",
      ">>>>>>>>>>>>>>> 76 0.0 8\n",
      ">>>>>>>>>>>>>>> 72 0.0 7\n",
      ">>>>>>>>>>>>>>> 92 0.0 25\n",
      ">>>>>>>>>>>>>>> 89 0.0 24\n",
      ">>>>>>>>>>>>>>> 87 0.0 23\n",
      ">>>>>>>>>>>>>>> 100 0.0 60\n",
      ">>>>>>>>>>>>>>> 99 0.0 59\n",
      ">>>>>>>>>>>>>>> 98 0.0 58\n"
     ]
    },
    {
     "data": {
      "text/plain": [
       "12-element Array{Any,1}:\n",
       "  61\n",
       "  81\n",
       "  76\n",
       "  72\n",
       "  15\n",
       "  92\n",
       "  89\n",
       "  87\n",
       "   1\n",
       " 100\n",
       "  99\n",
       "  98"
      ]
     },
     "execution_count": 12,
     "metadata": {},
     "output_type": "execute_result"
    }
   ],
   "source": [
    "c=fft(vbows[1:100],tweets[1:100],config,\"text\",\"3\",\"maxmin\")"
   ]
  },
  {
   "cell_type": "code",
   "execution_count": null,
   "metadata": {
    "collapsed": true
   },
   "outputs": [],
   "source": []
  },
  {
   "cell_type": "code",
   "execution_count": 13,
   "metadata": {},
   "outputs": [
    {
     "name": "stdout",
     "output_type": "stream",
     "text": [
      ">>>>>> Length: 1\n",
      "Any[37]\n",
      ">>>>>>>>>>>> DataStructures.PriorityQueue(2=>-1.0)\n",
      ">>>>>> Length: 2\n",
      "Any[37, 33]\n",
      ">>>>>>>>>>>> DataStructures.PriorityQueue(2=>-0.0,1=>-0.0)\n",
      ">>>>>> Length: 3\n",
      "Any[37, 33, 7]\n",
      ">>>>>>>>>>>> DataStructures.PriorityQueue(2=>-0.0,1=>-0.0)\n"
     ]
    },
    {
     "ename": "LoadError",
     "evalue": "\u001b[91mBoundsError: attempt to access 0-element Array{Pair{Int64,Float64},1} at index [1]\u001b[39m",
     "output_type": "error",
     "traceback": [
      "\u001b[91mBoundsError: attempt to access 0-element Array{Pair{Int64,Float64},1} at index [1]\u001b[39m",
      "",
      "Stacktrace:",
      " [1] \u001b[1mapprox_maxmin\u001b[22m\u001b[22m\u001b[1m(\u001b[22m\u001b[22m::Array{Any,1}, ::Array{Any,1}, ::Array{Int64,1}, ::SimilaritySearch.LocalSearchIndex{TextModel.VBOW,TextModel.#angle_distance}, ::SimilaritySearch.LocalSearchIndex{TextModel.VBOW,TextModel.#cosine}\u001b[1m)\u001b[22m\u001b[22m at \u001b[1m/Users/sadit/Research/DataSetReduction/src/fft.jl:258\u001b[22m\u001b[22m",
      " [2] \u001b[1mapply_selection\u001b[22m\u001b[22m\u001b[1m(\u001b[22m\u001b[22m::Array{Any,1}, ::Array{Any,1}, ::Array{Int64,1}, ::Array{Int64,1}, ::String, ::SimilaritySearch.LocalSearchIndex{TextModel.VBOW,TextModel.#angle_distance}, ::SimilaritySearch.LocalSearchIndex{TextModel.VBOW,TextModel.#cosine}, ::Dict{UInt64,SimilaritySearch.KnnResult}, ::Int64\u001b[1m)\u001b[22m\u001b[22m at \u001b[1m/Users/sadit/Research/DataSetReduction/src/fft.jl:215\u001b[22m\u001b[22m",
      " [3] \u001b[1mapply_selection\u001b[22m\u001b[22m\u001b[1m(\u001b[22m\u001b[22m::Array{Any,1}, ::Array{Any,1}, ::Array{Int64,1}, ::Array{Int64,1}, ::String, ::SimilaritySearch.LocalSearchIndex{TextModel.VBOW,TextModel.#angle_distance}, ::SimilaritySearch.LocalSearchIndex{TextModel.VBOW,TextModel.#cosine}, ::Dict{UInt64,SimilaritySearch.KnnResult}\u001b[1m)\u001b[22m\u001b[22m at \u001b[1m/Users/sadit/Research/DataSetReduction/src/fft.jl:207\u001b[22m\u001b[22m",
      " [4] \u001b[1mfft\u001b[22m\u001b[22m\u001b[1m(\u001b[22m\u001b[22m::Array{Any,1}, ::Array{Any,1}, ::TextModel.TextConfig{DataType}, ::String, ::String, ::String, ::Int64\u001b[1m)\u001b[22m\u001b[22m at \u001b[1m/Users/sadit/Research/DataSetReduction/src/fft.jl:285\u001b[22m\u001b[22m",
      " [5] \u001b[1mfft\u001b[22m\u001b[22m\u001b[1m(\u001b[22m\u001b[22m::Array{Any,1}, ::Array{Any,1}, ::TextModel.TextConfig{DataType}, ::String, ::String, ::String\u001b[1m)\u001b[22m\u001b[22m at \u001b[1m/Users/sadit/Research/DataSetReduction/src/fft.jl:264\u001b[22m\u001b[22m"
     ]
    }
   ],
   "source": [
    "c1=fft(vbows[1:100],tweets[1:100],config,\"text\",\"3\",\"approx_maxmin\")"
   ]
  },
  {
   "cell_type": "code",
   "execution_count": null,
   "metadata": {
    "collapsed": true
   },
   "outputs": [],
   "source": []
  }
 ],
 "metadata": {
  "kernelspec": {
   "display_name": "Julia 0.6.0",
   "language": "julia",
   "name": "julia-0.6"
  },
  "language_info": {
   "file_extension": ".jl",
   "mimetype": "application/julia",
   "name": "julia",
   "version": "0.6.0"
  }
 },
 "nbformat": 4,
 "nbformat_minor": 2
}
