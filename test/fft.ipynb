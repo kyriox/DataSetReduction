{
 "cells": [
  {
   "cell_type": "code",
   "execution_count": 3,
   "metadata": {},
   "outputs": [],
   "source": [
    "using Distances\n",
    "using DataStructures\n",
    "#using TextModel\n",
    "using SimilaritySearch\n",
    "#using JSON\n",
    "using PyCall\n",
    "using PyPlot\n",
    "#using Reactive, Interact, Compose\n",
    "@pyimport sklearn.datasets as datagen\n",
    "#include(\"../src/fft.jl\")"
   ]
  },
  {
   "cell_type": "code",
   "execution_count": 4,
   "metadata": {},
   "outputs": [
    {
     "data": {
      "text/plain": [
       "plot_clusters (generic function with 1 method)"
      ]
     },
     "execution_count": 4,
     "metadata": {},
     "output_type": "execute_result"
    }
   ],
   "source": [
    "function plot_clusters(data,labels,centers)\n",
    "    pygui(false)\n",
    "    PyPlot.hold(true)\n",
    "    colors=[\"ro\",\"bo\",\"go\",\"mo\",\"co\",\"yo\",\n",
    "        \"r^\",\"b^\",\"g^\",\"m^\",\"c^\",\"y^\",\n",
    "        \"r*\",\"b*\",\"g*\",\"m*\",\"c*\",\"y*\"]\n",
    "    ci=1\n",
    "    for l in Set(labels)\n",
    "        ind=[i for (i,v) in enumerate(labels) if v==l]\n",
    "        plot(data[ind,1],data[ind,2], colors[ci])\n",
    "        ci=ci+1\n",
    "    end\n",
    "    ax = axes()\n",
    "#    for c in centers#(xp,yp) in zip(data[:,1],data[:,2])\n",
    " #       xp,yp=data[c,1],data[c,2]\n",
    " #       ax[:text](xp, yp, \"$c\", color=\"red\", fontsize=14)\n",
    " #   end\n",
    "  #  plot(data[centers,1],data[centers,2], \"k8\", markersize=10)\n",
    "end"
   ]
  },
  {
   "cell_type": "code",
   "execution_count": 13,
   "metadata": {},
   "outputs": [
    {
     "data": {
      "text/plain": [
       "lassign (generic function with 1 method)"
      ]
     },
     "execution_count": 13,
     "metadata": {},
     "output_type": "execute_result"
    }
   ],
   "source": [
    "function lassign(data,centers)\n",
    "    labels=[]\n",
    "    for i in 1:length(data[:,1]) \n",
    "        x=data[i,:]\n",
    "        dist=sort([(evaluate(Euclidean(), x,data[c,:]),c) for c in centers])\n",
    "        push!(labels,dist[1][2])\n",
    "    end\n",
    "    #println(\"llllllllllll \",labels, \"      \", centers)\n",
    "    return labels\n",
    "end"
   ]
  },
  {
   "cell_type": "code",
   "execution_count": 14,
   "metadata": {},
   "outputs": [
    {
     "data": {
      "text/plain": [
       "ffte (generic function with 1 method)"
      ]
     },
     "execution_count": 14,
     "metadata": {},
     "output_type": "execute_result"
    }
   ],
   "source": [
    "function ffte(data,k::Int64)\n",
    "    n=length(data[:,1])\n",
    "    dst=KnnResult(n)\n",
    "    c=rand(1:n)\n",
    "    centers=[c]\n",
    "    [push!(dst,i,Inf) for i in 1:n if i!=c]\n",
    "    dd=[]\n",
    "    while length(centers)<k\n",
    "        dstn=KnnResult(n)\n",
    "        c=last(centers)\n",
    "        for nn in dst\n",
    "            d=evaluate(Euclidean(), data[c,:],data[nn.objID,:])\n",
    "            d = d<nn.dist ? d : nn.dist\n",
    "            push!(dstn,nn.objID,d)\n",
    "        end\n",
    "        fn=pop!(dstn)\n",
    "        dst=dstn\n",
    "        push!(centers,fn.objID)\n",
    "        push!(dd,fn.dist)\n",
    "    end\n",
    "    labels= lassign(data,centers)\n",
    "    return centers, labels, dd               \n",
    "end"
   ]
  },
  {
   "cell_type": "code",
   "execution_count": 8,
   "metadata": {},
   "outputs": [
    {
     "data": {
      "text/plain": [
       "fftp (generic function with 1 method)"
      ]
     },
     "execution_count": 8,
     "metadata": {},
     "output_type": "execute_result"
    }
   ],
   "source": [
    "function fftp(data,k::Int64)\n",
    "    n=length(data[:,1])\n",
    "    c=rand(1:n)\n",
    "    centers=[c]\n",
    "    partitions=[c for i in 1:n]\n",
    "    dd=[]\n",
    "    gg=[]\n",
    "    while length(centers)<k\n",
    "        res=[]\n",
    "        for c in centers\n",
    "            ind=[(i,l) for (i,l) in enumerate(partitions) if l==c]\n",
    "            dist=sort([(evaluate(Euclidean(), data[c,:],data[i,:]),i,c) for (i,x) in ind])\n",
    "            #println(\":::::::::::::::: \",dist)\n",
    "            push!(res,last(dist))\n",
    "        end\n",
    "        sort!(res)\n",
    "        r=last(res)\n",
    "        push!(centers,r[2])\n",
    "        push!(dd,r[1])\n",
    "        push!(gg,r[3])\n",
    "        partitions = lassign(data,centers)\n",
    "    end\n",
    "    return centers,partitions,dd,gg              \n",
    "end                                              "
   ]
  },
  {
   "cell_type": "code",
   "execution_count": 5,
   "metadata": {
    "collapsed": true
   },
   "outputs": [],
   "source": [
    "r,y=datagen.make_blobs(n_samples=20,centers=5);"
   ]
  },
  {
   "cell_type": "code",
   "execution_count": 45,
   "metadata": {},
   "outputs": [
    {
     "data": {
      "image/png": "[encoded data removed]",
      "text/plain": [
       "PyPlot.Figure(PyObject <matplotlib.figure.Figure object at 0x12cbd3da0>)"
      ]
     },
     "metadata": {},
     "output_type": "display_data"
    },
    {
     "data": {
      "text/plain": [
       "1-element Array{Any,1}:\n",
       " PyObject <matplotlib.lines.Line2D object at 0x12cd97438>"
      ]
     },
     "execution_count": 45,
     "metadata": {},
     "output_type": "execute_result"
    }
   ],
   "source": [
    "centros,lb,dd=ffte(r,5);\n",
    "plot_clusters(r, lb, centros)"
   ]
  },
  {
   "cell_type": "code",
   "execution_count": 19,
   "metadata": {},
   "outputs": [
    {
     "data": {
      "text/plain": [
       "50-element Array{Int64,1}:\n",
       " 1\n",
       " 1\n",
       " 1\n",
       " 1\n",
       " 1\n",
       " 1\n",
       " 1\n",
       " 1\n",
       " 1\n",
       " 1\n",
       " 1\n",
       " 1\n",
       " 1\n",
       " ⋮\n",
       " 1\n",
       " 1\n",
       " 1\n",
       " 1\n",
       " 1\n",
       " 1\n",
       " 1\n",
       " 1\n",
       " 1\n",
       " 1\n",
       " 1\n",
       " 1"
      ]
     },
     "execution_count": 19,
     "metadata": {},
     "output_type": "execute_result"
    }
   ],
   "source": []
  },
  {
   "cell_type": "code",
   "execution_count": 65,
   "metadata": {},
   "outputs": [
    {
     "data": {
      "text/plain": [
       "([2, 1, 5, 3, 4], Any[2, 1, 5, 2], Any[1, 2, 3, 4, 5])"
      ]
     },
     "execution_count": 65,
     "metadata": {},
     "output_type": "execute_result"
    }
   ],
   "source": [
    "centros,gg,lb"
   ]
  },
  {
   "cell_type": "code",
   "execution_count": 152,
   "metadata": {},
   "outputs": [
    {
     "data": {
      "text/plain": [
       "([-1.01258 -0.00181751; 2.16416 0.233419; … ; 1.04217 -0.336058; 0.391495 0.916356], [0, 1, 0, 0, 0, 0, 0, 1, 1, 1  …  1, 1, 0, 0, 0, 1, 0, 0, 1, 0])"
      ]
     },
     "execution_count": 152,
     "metadata": {},
     "output_type": "execute_result"
    }
   ],
   "source": [
    "r1,y1 = datagen.make_moons(n_samples=1000,noise=0.1)"
   ]
  },
  {
   "cell_type": "code",
   "execution_count": 154,
   "metadata": {},
   "outputs": [
    {
     "data": {
      "image/png": "[encoded data removed]",
      "text/plain": [
       "PyPlot.Figure(PyObject <matplotlib.figure.Figure object at 0x130781f98>)"
      ]
     },
     "metadata": {},
     "output_type": "display_data"
    },
    {
     "data": {
      "text/plain": [
       "9-element Array{Any,1}:\n",
       " 3.0574  \n",
       " 1.81183 \n",
       " 1.48708 \n",
       " 0.983638\n",
       " 0.923995\n",
       " 0.898346\n",
       " 0.846498\n",
       " 0.834634\n",
       " 0.550233"
      ]
     },
     "execution_count": 154,
     "metadata": {},
     "output_type": "execute_result"
    }
   ],
   "source": [
    "centros1,lb1,dd1=ffte(r1,10);\n",
    "plot_clusters(r1,y1,centros1)\n",
    "dd"
   ]
  },
  {
   "cell_type": "code",
   "execution_count": 365,
   "metadata": {},
   "outputs": [
    {
     "data": {
      "text/plain": [
       "fft (generic function with 2 methods)"
      ]
     },
     "execution_count": 365,
     "metadata": {},
     "output_type": "execute_result"
    }
   ],
   "source": [
    "include(\"../src/fft.jl\")"
   ]
  },
  {
   "cell_type": "code",
   "execution_count": 18,
   "metadata": {
    "collapsed": true
   },
   "outputs": [],
   "source": [
    "using CPUTime"
   ]
  },
  {
   "cell_type": "code",
   "execution_count": 19,
   "metadata": {
    "collapsed": true
   },
   "outputs": [],
   "source": [
    "config=TextConfig(); config.nlist=[2]; config.qlist=[5];config.skiplist = []\n",
    "tweets,vbows=list_of_items(\"../data/pionalisis.json\",\"text\",config);"
   ]
  },
  {
   "cell_type": "code",
   "execution_count": 20,
   "metadata": {},
   "outputs": [
    {
     "name": "stdout",
     "output_type": "stream",
     "text": [
      ">>>>>>>>>>>>>>> 53378 1.5707963267948966 29755\n",
      ">>>>>>>>>>>>>>> 53377 1.5707963267948966 29754\n",
      ">>>>>>>>>>>>>>> 53374 1.5707963267948966 29753\n",
      ">>>>>>>>>>>>>>> 53371 1.5707963267948966 12953\n",
      ">>>>>>>>>>>>>>> 53360 1.5707963267948966 12952\n",
      ">>>>>>>>>>>>>>> 53359 1.5707963267948966 12951\n",
      ">>>>>>>>>>>>>>> 53375 1.5707963267948966 10665\n",
      ">>>>>>>>>>>>>>> 53336 1.5707963267948966 10664\n",
      ">>>>>>>>>>>>>>> 53329 1.5707963267948966 10663\n",
      "elapsed CPU time: 1.853175 seconds\n",
      "  1.897334 seconds (2.02 M allocations: 95.822 MiB, 4.28% gc time)\n"
     ]
    }
   ],
   "source": [
    "@time @CPUtime c=fft(vbows,tweets,config,\"text\",\"3\",\"maxmin\");"
   ]
  },
  {
   "cell_type": "code",
   "execution_count": 30,
   "metadata": {},
   "outputs": [
    {
     "data": {
      "text/plain": [
       "animate_plot (generic function with 1 method)"
      ]
     },
     "execution_count": 30,
     "metadata": {},
     "output_type": "execute_result"
    }
   ],
   "source": [
    "@pyimport matplotlib.patches as patches\n",
    "function animate_plot(data,centers,dd)\n",
    "    pygui(true)\n",
    "    PyPlot.ion()\n",
    "    figure=PyPlot.figure()\n",
    "    ax = axes()\n",
    "    ax[:set_aspect](\"equal\")\n",
    "    cc=[\"r\",\"b\",\"g\",\"m\",\"c\",\"y\"]\n",
    "    colors=[\"ro\",\"bo\",\"go\",\"mo\",\"co\",\"yo\",\n",
    "            \"r^\",\"b^\",\"g^\",\"m^\",\"c^\",\"y^\",\n",
    "            \"r*\",\"b*\",\"g*\",\"m*\",\"c*\",\"y*\"]\n",
    "    #min,max=minimum(data)-dd[1],maximum(data)+dd[1]\n",
    "    min,max=-20,20\n",
    "    for i = 1:length(centers)\n",
    "        PyPlot.hold(true)\n",
    "        ax[:cla]()\n",
    "        ax[:set_ylim]([min,max])\n",
    "        ax[:set_xlim]([min,max])\n",
    "        #axis([0,2pi,-1,1])\n",
    "        lcenters=centers[1:i]\n",
    "        println(\"3333333\",lcenters)\n",
    "        labels=lassign(data,lcenters)\n",
    "        ci=1\n",
    "        for l in Set(labels)\n",
    "            ind=[i for (i,v) in enumerate(labels) if v==l]\n",
    "            ax[:plot](data[ind,1],data[ind,2], colors[ci])\n",
    "            ci=ci+1\n",
    "        end\n",
    "        r = i>1 ? dd[i-1] : dd[1]\n",
    "        for j in 1:i\n",
    "            cc=lcenters[j]\n",
    "            cir=patches.Circle(data[cc,:],r,\n",
    "                                fc=\"blue\",alpha=0.1,\n",
    "                                linewidth=.5,zorder=0)\n",
    "            ax[:add_artist](cir)\n",
    "        end\n",
    "        ax[:plot](data[lcenters,1],data[lcenters,2], \"k8\", markersize=10)\n",
    "        #println(keys(ax))\n",
    "        pause(0.1)\n",
    "        PyPlot.draw()\n",
    "        savefig(\"dreporte$i.png\")\n",
    "        PyPlot.hold(false)\n",
    "    end\n",
    "end"
   ]
  },
  {
   "cell_type": "code",
   "execution_count": 31,
   "metadata": {},
   "outputs": [
    {
     "data": {
      "text/plain": [
       "animate_path (generic function with 1 method)"
      ]
     },
     "execution_count": 31,
     "metadata": {},
     "output_type": "execute_result"
    }
   ],
   "source": [
    "@pyimport matplotlib.patches as patches\n",
    "function animate_path(data,centers,dd)\n",
    "    pygui(true)\n",
    "    PyPlot.ion()\n",
    "    figure=PyPlot.figure()\n",
    "    ax = axes()\n",
    "    ax[:set_aspect](\"equal\")\n",
    "    cc=[\"r\",\"b\",\"g\",\"m\",\"c\",\"y\"]\n",
    "    colors=[\"ro\",\"bo\",\"go\",\"mo\",\"co\",\"yo\",\n",
    "            \"r^\",\"b^\",\"g^\",\"m^\",\"c^\",\"y^\",\n",
    "            \"r*\",\"b*\",\"g*\",\"m*\",\"c*\",\"y*\"]\n",
    "    min,max=minimum(data)-1,maximum(data)+1\n",
    "    min,max=-20,20\n",
    "    for i = 1:length(centers)\n",
    "        PyPlot.hold(true)\n",
    "        ax[:cla]()\n",
    "        ax[:set_ylim]([min,max])\n",
    "        ax[:set_xlim]([min,max])\n",
    "        lcenters=centers[1:i]\n",
    "        labels=lassign(data,lcenters)\n",
    "        ci=1\n",
    "        for l in Set(labels)\n",
    "            ind=[i for (i,v) in enumerate(labels) if v==l]\n",
    "            ax[:plot](data[ind,1],data[ind,2], colors[ci])\n",
    "            ci=ci+1\n",
    "        end\n",
    "        r = i>1 ? dd[i-1] : dd[1]\n",
    "        for j in 1:i-1\n",
    "            xi,yi=data[lcenters[j],:]\n",
    "            xf,yf=data[lcenters[j+1],:]\n",
    "            dx=xf-xi\n",
    "            dy=yf-yi\n",
    "            arr=patches.Arrow(xi,yi,dx,dy,zorder=1000,width=0.5)\n",
    "            ax[:add_artist](arr)\n",
    "        end\n",
    "        ax[:plot](data[lcenters,1],data[lcenters,2], \"k8\", markersize=10)\n",
    "        #println(keys(ax))\n",
    "        pause(0.1)\n",
    "        PyPlot.draw()\n",
    "        savefig(\"rpath$i.png\")\n",
    "        PyPlot.hold(false)\n",
    "    end\n",
    "end"
   ]
  },
  {
   "cell_type": "code",
   "execution_count": 11,
   "metadata": {
    "collapsed": true
   },
   "outputs": [],
   "source": []
  },
  {
   "cell_type": "code",
   "execution_count": 27,
   "metadata": {},
   "outputs": [
    {
     "data": {
      "image/png": "[encoded data removed]",
      "text/plain": [
       "PyPlot.Figure(PyObject <matplotlib.figure.Figure object at 0x1359e7c50>)"
      ]
     },
     "metadata": {},
     "output_type": "display_data"
    },
    {
     "data": {
      "text/plain": [
       "PyObject <matplotlib.axes._subplots.AxesSubplot object at 0x1359df1d0>"
      ]
     },
     "execution_count": 27,
     "metadata": {},
     "output_type": "execute_result"
    }
   ],
   "source": [
    "r,y=datagen.make_blobs(n_samples=20,centers=5);\n",
    "centros,lb,dd=ffte(r,5);\n",
    "plot_clusters(r, y, centros)\n"
   ]
  },
  {
   "cell_type": "code",
   "execution_count": 32,
   "metadata": {},
   "outputs": [
    {
     "name": "stdout",
     "output_type": "stream",
     "text": [
      "3333333[18]\n",
      "3333333[18, 16]\n",
      "3333333[18, 16, 13]\n",
      "3333333[18, 16, 13, 9]\n",
      "3333333[18, 16, 13, 9, 10]\n"
     ]
    }
   ],
   "source": [
    "animate_plot(r,centros,dd)"
   ]
  },
  {
   "cell_type": "code",
   "execution_count": 33,
   "metadata": {
    "collapsed": true
   },
   "outputs": [],
   "source": [
    "animate_path(r,centros,dd)"
   ]
  },
  {
   "cell_type": "code",
   "execution_count": 68,
   "metadata": {},
   "outputs": [
    {
     "data": {
      "text/plain": [
       "5-element Array{Int64,1}:\n",
       " 2\n",
       " 1\n",
       " 5\n",
       " 3\n",
       " 4"
      ]
     },
     "execution_count": 68,
     "metadata": {},
     "output_type": "execute_result"
    }
   ],
   "source": [
    "centros"
   ]
  },
  {
   "cell_type": "code",
   "execution_count": 169,
   "metadata": {},
   "outputs": [
    {
     "name": "stdout",
     "output_type": "stream",
     "text": [
      "El valor de x es 1\n"
     ]
    }
   ],
   "source": [
    "println(\"El valor de x es $xx\")"
   ]
  },
  {
   "cell_type": "code",
   "execution_count": 28,
   "metadata": {},
   "outputs": [
    {
     "data": {
      "text/plain": [
       "animate_partition (generic function with 1 method)"
      ]
     },
     "execution_count": 28,
     "metadata": {},
     "output_type": "execute_result"
    }
   ],
   "source": [
    "@pyimport matplotlib.patches as patches\n",
    "function animate_partition(data,centers,dd,gg)\n",
    "    pygui(true)\n",
    "    PyPlot.ion()\n",
    "    figure=PyPlot.figure()\n",
    "    ax = axes()\n",
    "    cc=[\"r\",\"b\",\"g\",\"m\",\"c\",\"y\"]\n",
    "    colors=[\"ro\",\"bo\",\"go\",\"mo\",\"co\",\"yo\",\n",
    "            \"r^\",\"b^\",\"g^\",\"m^\",\"c^\",\"y^\",\n",
    "            \"r*\",\"b*\",\"g*\",\"m*\",\"c*\",\"y*\"]\n",
    "    min,max=minimum(data)-dd[1],maximum(data)+dd[1]\n",
    "    ax[:set_aspect](\"equal\")\n",
    "    for i = 1:length(centers)\n",
    "        PyPlot.hold(true)\n",
    "        ax[:cla]()\n",
    "        ax[:set_ylim]([min,max])\n",
    "        ax[:set_xlim]([min,max])\n",
    "        #axis([0,2pi,-1,1])\n",
    "        lcenters=centers[1:i]\n",
    "        labels=lassign(data,lcenters)\n",
    "        ci=1\n",
    "        for l in Set(labels)\n",
    "            ind=[i for (i,v) in enumerate(labels) if v==l]\n",
    "            ax[:plot](data[ind,1],data[ind,2], colors[ci])\n",
    "            ci=ci+1\n",
    "        end\n",
    "        counter=1\n",
    "        #for (xp,yp) in zip(data[:,1],data[:,2])\n",
    "        #      ax[:text](xp, yp, \"$counter\", color=\"red\", fontsize=14)\n",
    "         #     counter=counter+1\n",
    "        #end\n",
    "        #r = i>1 ? dd[i-1] : dd[1]\n",
    "        for j in 1:i\n",
    "            if j>1\n",
    "                cc=gg[j-1]\n",
    "                cd=centros[j]\n",
    "                rr=evaluate(Euclidean(), data[cc,:], data[cd,:] )\n",
    "                cir=patches.Circle(data[cc,:], rr,\n",
    "                            fc=\"blue\",alpha=0.1,\n",
    "                            linewidth=.5,zorder=0)\n",
    "                ax[:add_artist](cir)\n",
    "            end\n",
    "        end\n",
    "        ax[:plot](data[lcenters,1],data[lcenters,2], \"k8\", markersize=10)\n",
    "        #println(keys(ax))\n",
    "        pause(1)\n",
    "        PyPlot.draw()\n",
    "        prefijo = i<10 ? \"0$i\": \"$i\"\n",
    "        savefig(\"partitionbuena$prefijo.png\")\n",
    "        PyPlot.hold(false)\n",
    "    end\n",
    "end"
   ]
  },
  {
   "cell_type": "code",
   "execution_count": 29,
   "metadata": {
    "collapsed": true
   },
   "outputs": [],
   "source": [
    "animate_partition(r,centros,dd,gg)"
   ]
  },
  {
   "cell_type": "code",
   "execution_count": 14,
   "metadata": {},
   "outputs": [
    {
     "data": {
      "text/plain": [
       "4-element Array{Any,1}:\n",
       " 15\n",
       " 15\n",
       " 15\n",
       " 18"
      ]
     },
     "execution_count": 14,
     "metadata": {},
     "output_type": "execute_result"
    }
   ],
   "source": [
    "gg"
   ]
  },
  {
   "cell_type": "code",
   "execution_count": 75,
   "metadata": {},
   "outputs": [
    {
     "data": {
      "text/plain": [
       "5-element Array{Int64,1}:\n",
       " 2\n",
       " 1\n",
       " 5\n",
       " 3\n",
       " 4"
      ]
     },
     "execution_count": 75,
     "metadata": {},
     "output_type": "execute_result"
    }
   ],
   "source": [
    "centros"
   ]
  },
  {
   "cell_type": "code",
   "execution_count": 387,
   "metadata": {},
   "outputs": [
    {
     "data": {
      "text/plain": [
       "4.870011465499301"
      ]
     },
     "execution_count": 387,
     "metadata": {},
     "output_type": "execute_result"
    }
   ],
   "source": []
  },
  {
   "cell_type": "code",
   "execution_count": 389,
   "metadata": {},
   "outputs": [
    {
     "data": {
      "text/plain": [
       "20-element Array{Float64,1}:\n",
       "  4.70753 \n",
       "  0.718316\n",
       "  4.19466 \n",
       "  5.04997 \n",
       "  0.319627\n",
       "  1.97387 \n",
       "  3.64747 \n",
       "  3.17424 \n",
       "  0.0     \n",
       "  2.07293 \n",
       " 11.1747  \n",
       "  4.87001 \n",
       "  9.75895 \n",
       "  6.5981  \n",
       "  9.15524 \n",
       "  6.40269 \n",
       "  7.73884 \n",
       "  5.0755  \n",
       "  7.71587 \n",
       "  7.38455 "
      ]
     },
     "execution_count": 389,
     "metadata": {},
     "output_type": "execute_result"
    }
   ],
   "source": [
    "[evaluate(Euclidean(),r[9], r[i]) for i in 1:length(r[:,1])]"
   ]
  },
  {
   "cell_type": "code",
   "execution_count": 320,
   "metadata": {},
   "outputs": [
    {
     "data": {
      "text/plain": [
       "4-element Array{Any,1}:\n",
       " 17.4978 \n",
       " 14.8089 \n",
       "  7.68602\n",
       "  4.0468 "
      ]
     },
     "execution_count": 320,
     "metadata": {},
     "output_type": "execute_result"
    }
   ],
   "source": [
    "dd"
   ]
  },
  {
   "cell_type": "code",
   "execution_count": 422,
   "metadata": {},
   "outputs": [
    {
     "data": {
      "text/plain": [
       "(Any[2, 2, 6, 2], Any[14.7662, 5.94798, 4.73666, 3.3654], [2, 15, 6, 3, 14])"
      ]
     },
     "execution_count": 422,
     "metadata": {},
     "output_type": "execute_result"
    }
   ],
   "source": [
    "gg,dd,centros"
   ]
  },
  {
   "cell_type": "code",
   "execution_count": 423,
   "metadata": {},
   "outputs": [
    {
     "data": {
      "text/plain": [
       "20-element Array{Any,1}:\n",
       "  2\n",
       "  2\n",
       "  3\n",
       "  6\n",
       " 15\n",
       "  6\n",
       " 14\n",
       "  6\n",
       "  6\n",
       " 15\n",
       " 15\n",
       "  3\n",
       "  2\n",
       " 14\n",
       " 15\n",
       "  3\n",
       "  2\n",
       "  2\n",
       "  3\n",
       " 14"
      ]
     },
     "execution_count": 423,
     "metadata": {},
     "output_type": "execute_result"
    }
   ],
   "source": [
    "lb"
   ]
  },
  {
   "cell_type": "code",
   "execution_count": 47,
   "metadata": {},
   "outputs": [
    {
     "data": {
      "text/plain": [
       "5×2 Array{Float64,2}:\n",
       "  4.34168    3.31327\n",
       "  0.886109   3.81546\n",
       "  4.70611   -6.84131\n",
       "  3.48829    2.20299\n",
       " -4.39752   -7.25579"
      ]
     },
     "execution_count": 47,
     "metadata": {},
     "output_type": "execute_result"
    }
   ],
   "source": [
    "r"
   ]
  },
  {
   "cell_type": "code",
   "execution_count": 35,
   "metadata": {},
   "outputs": [
    {
     "data": {
      "text/plain": [
       "4-element Array{Any,1}:\n",
       "  2\n",
       "  8\n",
       "  2\n",
       " 21"
      ]
     },
     "execution_count": 35,
     "metadata": {},
     "output_type": "execute_result"
    }
   ],
   "source": [
    "gg"
   ]
  },
  {
   "cell_type": "code",
   "execution_count": 60,
   "metadata": {},
   "outputs": [
    {
     "data": {
      "text/plain": [
       "9.113057898336868"
      ]
     },
     "execution_count": 60,
     "metadata": {},
     "output_type": "execute_result"
    }
   ],
   "source": [
    "evaluate(Euclidean(), r[5,:], r[3,:])"
   ]
  },
  {
   "cell_type": "code",
   "execution_count": 61,
   "metadata": {},
   "outputs": [
    {
     "data": {
      "text/plain": [
       "4-element Array{Any,1}:\n",
       " 9.10363 \n",
       " 3.82    \n",
       " 3.45557 \n",
       " 0.853395"
      ]
     },
     "execution_count": 61,
     "metadata": {},
     "output_type": "execute_result"
    }
   ],
   "source": [
    "dd"
   ]
  },
  {
   "cell_type": "code",
   "execution_count": 77,
   "metadata": {},
   "outputs": [
    {
     "data": {
      "text/plain": [
       "5×2 Array{Float64,2}:\n",
       "  2.83566    2.62948\n",
       " -1.77122    7.57811\n",
       "  0.866751  -6.26713\n",
       " -1.11452    6.71172\n",
       " -2.57071   -3.17042"
      ]
     },
     "execution_count": 77,
     "metadata": {},
     "output_type": "execute_result"
    }
   ],
   "source": [
    "r"
   ]
  },
  {
   "cell_type": "code",
   "execution_count": 92,
   "metadata": {},
   "outputs": [
    {
     "data": {
      "text/plain": [
       "pdist (generic function with 1 method)"
      ]
     },
     "execution_count": 92,
     "metadata": {},
     "output_type": "execute_result"
    }
   ],
   "source": [
    "function pdist(data)\n",
    "    n=length(r[:,1])\n",
    "    D=zeros(n,n)\n",
    "    for i in 1:n\n",
    "        for j in i:n\n",
    "            dij=evaluate(Euclidean(),data[i,:],data[j,:])\n",
    "            #println(\"$i,$j \", dij)\n",
    "            D[i,j]=dij\n",
    "            D[j,i]= dij\n",
    "        end\n",
    "    end\n",
    "    return D\n",
    "end"
   ]
  },
  {
   "cell_type": "code",
   "execution_count": 267,
   "metadata": {},
   "outputs": [
    {
     "data": {
      "text/plain": [
       "fftc (generic function with 1 method)"
      ]
     },
     "execution_count": 267,
     "metadata": {},
     "output_type": "execute_result"
    }
   ],
   "source": [
    "function fftc(data, k)\n",
    "    n=length(data[:,1])\n",
    "    c=rand(1:n)\n",
    "    c=1\n",
    "    centers=[c]\n",
    "    D=pdist(data)\n",
    "    dd=[]\n",
    "    while length(centers)<k\n",
    "        #media=mean([data[c,:] for c in centers])\n",
    "        dist=mean([D[i,:] for i in centers])\n",
    "        #println(argsort)\n",
    "        #println(dist)\n",
    "        #dist=[evaluate(Euclidean(), data[j,:], media) for j in 1:length(data[:,1])]\n",
    "        #println(dist)\n",
    "        argsort=sortperm(dist, rev=true)\n",
    "        for i in argsort\n",
    "            if !(i in centers)\n",
    "                push!(centers,i)\n",
    "                push!(dd,dist[i])\n",
    "                break\n",
    "            end\n",
    "        end\n",
    "    end\n",
    "    labels= lassign(data,centers)\n",
    "    return centers,labels,dd\n",
    "end"
   ]
  },
  {
   "cell_type": "code",
   "execution_count": 252,
   "metadata": {},
   "outputs": [
    {
     "data": {
      "text/plain": [
       "25-element Array{Float64,1}:\n",
       "  3.04801\n",
       "  6.56298\n",
       "  5.5239 \n",
       "  6.25852\n",
       "  5.58879\n",
       "  5.81214\n",
       "  6.9166 \n",
       "  4.78112\n",
       "  9.56942\n",
       "  0.0    \n",
       "  6.31132\n",
       "  5.36959\n",
       "  2.37433\n",
       "  4.12182\n",
       "  8.02813\n",
       " 11.7595 \n",
       " 10.6302 \n",
       "  6.58931\n",
       "  9.98656\n",
       "  6.85609\n",
       "  6.65492\n",
       "  2.15751\n",
       "  7.34877\n",
       "  5.62467\n",
       " 10.5723 "
      ]
     },
     "execution_count": 252,
     "metadata": {},
     "output_type": "execute_result"
    }
   ],
   "source": [
    "DD[10,:]"
   ]
  },
  {
   "cell_type": "code",
   "execution_count": 269,
   "metadata": {},
   "outputs": [
    {
     "data": {
      "image/png": "[encoded data removed]",
      "text/plain": [
       "PyPlot.Figure(PyObject <matplotlib.figure.Figure object at 0x148137be0>)"
      ]
     },
     "metadata": {},
     "output_type": "display_data"
    },
    {
     "data": {
      "text/plain": [
       "1-element Array{Any,1}:\n",
       " PyObject <matplotlib.lines.Line2D object at 0x149cee470>"
      ]
     },
     "execution_count": 269,
     "metadata": {},
     "output_type": "execute_result"
    }
   ],
   "source": [
    "centrosc,lbc,ddc=fftc(r,5)\n",
    "plot_clusters(r,lbc,centrosc)"
   ]
  },
  {
   "cell_type": "code",
   "execution_count": 255,
   "metadata": {},
   "outputs": [
    {
     "data": {
      "text/plain": [
       "5-element Array{Int64,1}:\n",
       " 23\n",
       " 21\n",
       " 16\n",
       " 18\n",
       " 17"
      ]
     },
     "execution_count": 255,
     "metadata": {},
     "output_type": "execute_result"
    }
   ],
   "source": [
    "centrosc"
   ]
  },
  {
   "cell_type": "code",
   "execution_count": 256,
   "metadata": {},
   "outputs": [
    {
     "data": {
      "text/plain": [
       "25-element Array{Float64,1}:\n",
       "  8.08467\n",
       "  8.63225\n",
       "  7.85113\n",
       "  8.95078\n",
       "  8.57066\n",
       "  8.4492 \n",
       "  8.83987\n",
       "  9.0582 \n",
       " 10.9831 \n",
       "  8.08811\n",
       "  8.92182\n",
       "  7.83446\n",
       "  8.18054\n",
       "  7.73321\n",
       "  9.32758\n",
       " 12.0125 \n",
       " 11.5169 \n",
       "  7.99036\n",
       " 11.1446 \n",
       "  8.92623\n",
       "  8.31753\n",
       "  8.22181\n",
       "  8.80246\n",
       "  8.62523\n",
       " 11.4369 "
      ]
     },
     "execution_count": 256,
     "metadata": {},
     "output_type": "execute_result"
    }
   ],
   "source": [
    "mean([DD[i,:] for i in [23,21,16,18]])"
   ]
  },
  {
   "cell_type": "code",
   "execution_count": null,
   "metadata": {
    "collapsed": true
   },
   "outputs": [],
   "source": []
  }
 ],
 "metadata": {
  "kernelspec": {
   "display_name": "Julia 0.6.0",
   "language": "julia",
   "name": "julia-0.6"
  },
  "language_info": {
   "file_extension": ".jl",
   "mimetype": "application/julia",
   "name": "julia",
   "version": "0.6.0"
  }
 },
 "nbformat": 4,
 "nbformat_minor": 2
}
